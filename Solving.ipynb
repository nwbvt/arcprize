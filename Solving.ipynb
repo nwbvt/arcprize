{
 "cells": [
  {
   "cell_type": "code",
   "execution_count": 1,
   "id": "97f6d578-3d01-4e94-ba38-b051de88359a",
   "metadata": {},
   "outputs": [],
   "source": [
    "import data\n",
    "import torch\n",
    "import encoding\n",
    "import solver\n",
    "from torch import nn\n",
    "import matplotlib.pyplot as plt\n",
    "import matplotlib.colors as colors\n",
    "import torch.nn.functional as F"
   ]
  },
  {
   "cell_type": "code",
   "execution_count": 2,
   "id": "45951809-d1ad-42c7-bea7-f5fe4a67864d",
   "metadata": {},
   "outputs": [],
   "source": [
    "arcData = data.ArcData('data', 'arc-agi_training')\n",
    "i=10\n",
    "train_inputs, train_outputs, test_inputs, test_outputs = arcData[i]"
   ]
  },
  {
   "cell_type": "code",
   "execution_count": 3,
   "id": "3b6a4e50-910a-46e9-85c8-57fb96760ae1",
   "metadata": {},
   "outputs": [
    {
     "data": {
      "text/plain": [
       "<All keys matched successfully>"
      ]
     },
     "execution_count": 3,
     "metadata": {},
     "output_type": "execute_result"
    }
   ],
   "source": [
    "encoding_model = encoding.EncodingModel([128, 512], [3, 9], 1024, 0.05)\n",
    "encoding_model.load_state_dict(torch.load(\"encoding_model.pth\"))"
   ]
  },
  {
   "cell_type": "code",
   "execution_count": 4,
   "id": "e9b57755-a983-43dc-b8ce-7bd62f3f7a96",
   "metadata": {},
   "outputs": [],
   "source": [
    "grid_encoding = encoding_model.encoding"
   ]
  },
  {
   "cell_type": "code",
   "execution_count": 5,
   "id": "70e2a390-8973-497f-b013-e89b545cd389",
   "metadata": {},
   "outputs": [
    {
     "data": {
      "image/png": "[encoded data removed]",
      "text/plain": [
       "<Figure size 640x480 with 8 Axes>"
      ]
     },
     "metadata": {},
     "output_type": "display_data"
    }
   ],
   "source": [
    "data.print_problem(*arcData[i], show_solution=True).show()"
   ]
  },
  {
   "cell_type": "code",
   "execution_count": 6,
   "id": "40c167c2-94d1-46e3-ab92-e8cbb50b99eb",
   "metadata": {},
   "outputs": [],
   "source": [
    "m = solver.SolvingModel(grid_encoding, 2048, 5, 0.5)"
   ]
  },
  {
   "cell_type": "code",
   "execution_count": 7,
   "id": "961515ef-694a-4bf9-aa75-7c862fc7aa21",
   "metadata": {},
   "outputs": [
    {
     "name": "stdout",
     "output_type": "stream",
     "text": [
      "loss: 0.020065, accuracy: 99.85% [300/300]"
     ]
    }
   ],
   "source": [
    "solver.train_mini_model(train_inputs, train_outputs, m, n_epochs=300, l2=1e-2, lr=1e-5)"
   ]
  },
  {
   "cell_type": "code",
   "execution_count": 8,
   "id": "8ffec593-852e-4383-9ce6-c88a640d358e",
   "metadata": {},
   "outputs": [],
   "source": [
    "train_preds = m(train_inputs.to(solver.DEVICE))"
   ]
  },
  {
   "cell_type": "code",
   "execution_count": 9,
   "id": "e515acdc-d484-432a-9d3b-f424616171a6",
   "metadata": {},
   "outputs": [],
   "source": [
    "test_preds = m(test_inputs.to(solver.DEVICE))"
   ]
  },
  {
   "cell_type": "code",
   "execution_count": 10,
   "id": "ffba214f-1e89-4c4f-b947-630a0b224d9a",
   "metadata": {},
   "outputs": [
    {
     "name": "stdout",
     "output_type": "stream",
     "text": [
      "Test accuracy: 95.78%\n"
     ]
    }
   ],
   "source": [
    "test_accuracy = (test_preds.argmax(dim=1) == test_outputs.argmax(dim=1).to(solver.DEVICE)).to(torch.float).mean().item()*100\n",
    "print(f\"Test accuracy: {test_accuracy:>.2f}%\")"
   ]
  },
  {
   "cell_type": "code",
   "execution_count": 11,
   "id": "9d6aa22c-6db8-4e13-805a-1c99f172e55a",
   "metadata": {},
   "outputs": [
    {
     "data": {
      "image/png": "[encoded data removed]",
      "text/plain": [
       "<Figure size 640x480 with 8 Axes>"
      ]
     },
     "metadata": {},
     "output_type": "display_data"
    }
   ],
   "source": [
    "data.print_problem(train_inputs, train_preds, test_inputs, test_preds, show_solution=True).show()"
   ]
  },
  {
   "cell_type": "code",
   "execution_count": null,
   "id": "a4cb3ed4-d853-4d58-b03e-39a3be8b1f53",
   "metadata": {},
   "outputs": [],
   "source": []
  },
  {
   "cell_type": "code",
   "execution_count": null,
   "id": "e6006c48-baa7-4cfc-a4ec-419f4fd74603",
   "metadata": {},
   "outputs": [],
   "source": []
  }
 ],
 "metadata": {
  "kernelspec": {
   "display_name": "Python 3 (ipykernel)",
   "language": "python",
   "name": "python3"
  },
  "language_info": {
   "codemirror_mode": {
    "name": "ipython",
    "version": 3
   },
   "file_extension": ".py",
   "mimetype": "text/x-python",
   "name": "python",
   "nbconvert_exporter": "python",
   "pygments_lexer": "ipython3",
   "version": "3.10.12"
  }
 },
 "nbformat": 4,
 "nbformat_minor": 5
}
