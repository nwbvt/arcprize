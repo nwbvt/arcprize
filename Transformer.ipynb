{
 "cells": [
  {
   "cell_type": "code",
   "execution_count": 1,
   "id": "ee5f76f4-cc23-4a53-a45c-43295ee521d4",
   "metadata": {},
   "outputs": [],
   "source": [
    "import data\n",
    "import torch\n",
    "import encoding\n",
    "import transformer\n",
    "from torch import nn, optim\n",
    "import matplotlib.pyplot as plt\n",
    "import matplotlib.colors as colors\n",
    "import torch.nn.functional as F\n",
    "from torch.utils.data import DataLoader\n",
    "from positional_encodings.torch_encodings import PositionalEncoding2D"
   ]
  },
  {
   "cell_type": "code",
   "execution_count": 2,
   "id": "abcfa4a5-6c53-4516-8600-5760390e4371",
   "metadata": {},
   "outputs": [],
   "source": [
    "arcData = data.ArcSequence('data', 'arc-agi_training')"
   ]
  },
  {
   "cell_type": "code",
   "execution_count": 3,
   "id": "9ca3dc2a-ad19-43ba-aa18-786aa20c7c97",
   "metadata": {},
   "outputs": [
    {
     "data": {
      "text/plain": [
       "<All keys matched successfully>"
      ]
     },
     "execution_count": 3,
     "metadata": {},
     "output_type": "execute_result"
    }
   ],
   "source": [
    "encoding_model = encoding.EncodingModel([128, 512], [3, 9], 1024, 0.05)\n",
    "encoding_model.load_state_dict(torch.load(\"encoding_model.pth\"))"
   ]
  },
  {
   "cell_type": "code",
   "execution_count": 4,
   "id": "63e1e960-5f65-4dcf-9206-68a708fc34fc",
   "metadata": {},
   "outputs": [],
   "source": [
    "model = transformer.TransformerModel(encoding_model.encoding, 512, 4, 100, 2, 0.5).to(transformer.DEVICE)"
   ]
  },
  {
   "cell_type": "code",
   "execution_count": 5,
   "id": "ce84508a-41ac-4f26-af55-fa1f7daab82c",
   "metadata": {},
   "outputs": [],
   "source": [
    "optimizer = optim.Adam(model.parameters())\n",
    "loss = nn.CrossEntropyLoss()"
   ]
  },
  {
   "cell_type": "code",
   "execution_count": 6,
   "id": "b4ed906b-2a11-48ae-8472-1a3c65368361",
   "metadata": {},
   "outputs": [
    {
     "name": "stdout",
     "output_type": "stream",
     "text": [
      "Epoch   0: Loss=0.23425/   969]\n",
      "Epoch   1: Loss=0.23330/   969]\n",
      "Epoch   2: Loss=0.23128/   969]\n",
      "Epoch   3: Loss=0.23091/   969]\n",
      "Epoch   4: Loss=0.23081/   969]\n",
      "Epoch   5: Loss=0.23079/   969]\n",
      "Epoch   6: Loss=0.23080/   969]\n",
      "Epoch   7: Loss=0.23088/   969]\n",
      "Epoch   8: Loss=0.23071/   969]\n",
      "Epoch   9: Loss=0.23081/   969]\n",
      "Final Loss: 0.23071\n"
     ]
    }
   ],
   "source": [
    "model = transformer.train(model, arcData, loss, optimizer, max_epochs=10, max_streak=3)"
   ]
  },
  {
   "cell_type": "code",
   "execution_count": null,
   "id": "bbe2d5dc-ff9e-4ac4-bcea-8b6ceaea257c",
   "metadata": {},
   "outputs": [],
   "source": []
  }
 ],
 "metadata": {
  "kernelspec": {
   "display_name": "Python 3 (ipykernel)",
   "language": "python",
   "name": "python3"
  },
  "language_info": {
   "codemirror_mode": {
    "name": "ipython",
    "version": 3
   },
   "file_extension": ".py",
   "mimetype": "text/x-python",
   "name": "python",
   "nbconvert_exporter": "python",
   "pygments_lexer": "ipython3",
   "version": "3.10.12"
  }
 },
 "nbformat": 4,
 "nbformat_minor": 5
}
