{
 "cells": [
  {
   "cell_type": "markdown",
   "id": "b6ea0bb1-0293-4d48-9e90-4067c98a2428",
   "metadata": {},
   "source": [
    "# ARC Pretraining"
   ]
  },
  {
   "cell_type": "markdown",
   "id": "51afd628-1b97-4e63-bad8-951a817a57a0",
   "metadata": {},
   "source": [
    "## Hypothesis\n",
    "An important part of solving this problem is being able to recognize patterns in the grids. We can intuitively do this because our visual systems are trained to find such patterns. By doing some pretraining just looking at the patterns we can improve later efforts to solve the problems."
   ]
  },
  {
   "cell_type": "code",
   "execution_count": 1,
   "id": "641bf681-0ffb-4eba-b31e-df64f6f23118",
   "metadata": {},
   "outputs": [],
   "source": [
    "import data\n",
    "import encoding\n",
    "from torch import optim, nn"
   ]
  },
  {
   "cell_type": "markdown",
   "id": "463225b8-ce73-4a09-879e-8ca1ecd0fdc2",
   "metadata": {},
   "source": [
    "We can use a triplet loss to develop some embeddings that will help recognized patterns in the grids. The model will be given three grids, an anchor, another grid from the same input or output set, and a shuffled version of that grid. The triplet loss will try to identify which is the peer grid and which is the shuffled grid."
   ]
  },
  {
   "cell_type": "code",
   "execution_count": 2,
   "id": "94227400-3535-4f2a-b0b9-aa7c7e7e2cbc",
   "metadata": {},
   "outputs": [],
   "source": [
    "triplets = data.ArcTriplets('data', 'arc-agi_training', 5)"
   ]
  },
  {
   "cell_type": "code",
   "execution_count": 3,
   "id": "c926a35f-9442-490c-a06e-d41be67ee2ea",
   "metadata": {},
   "outputs": [
    {
     "data": {
      "text/plain": [
       "11272"
      ]
     },
     "execution_count": 3,
     "metadata": {},
     "output_type": "execute_result"
    }
   ],
   "source": [
    "len(triplets)"
   ]
  },
  {
   "cell_type": "code",
   "execution_count": 4,
   "id": "66621186-c4b2-447a-9c9e-dad03cae56e3",
   "metadata": {},
   "outputs": [
    {
     "data": {
      "text/plain": [
       "1000"
      ]
     },
     "execution_count": 4,
     "metadata": {},
     "output_type": "execute_result"
    }
   ],
   "source": [
    "len(triplets.challenges)"
   ]
  },
  {
   "cell_type": "markdown",
   "id": "17562bb4-788d-4e8a-8f1e-20dd46f8f355",
   "metadata": {},
   "source": [
    "By converting into triplets we increase the amount of data by an order of magnitude to help learn how to recognize patterns in them, even when filtering out small grids"
   ]
  },
  {
   "cell_type": "markdown",
   "id": "62cc5054-aad2-4efc-8895-4f4f51601db2",
   "metadata": {},
   "source": [
    "We will train a convultional model looking at the grids"
   ]
  },
  {
   "cell_type": "code",
   "execution_count": 5,
   "id": "061cd37e-fe00-4af2-a691-b6a01011945b",
   "metadata": {},
   "outputs": [],
   "source": [
    "model = encoding.EncodingModel([128, 256, 512], [3,5,9], 512).to(encoding.DEVICE)"
   ]
  },
  {
   "cell_type": "code",
   "execution_count": 6,
   "id": "818edeac-9eaa-47a8-9d1d-77c7241906ef",
   "metadata": {},
   "outputs": [],
   "source": [
    "optimizer = optim.Adam(model.parameters())"
   ]
  },
  {
   "cell_type": "code",
   "execution_count": 7,
   "id": "5435947f-a19a-48b7-a8f9-3e299968b744",
   "metadata": {},
   "outputs": [],
   "source": [
    "loss = nn.TripletMarginLoss()"
   ]
  },
  {
   "cell_type": "code",
   "execution_count": null,
   "id": "3d2e7c2e-f265-4b0c-a4a2-20b0a746489a",
   "metadata": {},
   "outputs": [
    {
     "name": "stdout",
     "output_type": "stream",
     "text": [
      "Epoch   0: Loss=0.41103 val, 0.43208 train \n",
      "Epoch   1: Loss=0.24215 val, 0.23514 train \n",
      "Epoch   2: Loss=0.19869 val, 0.17925 train \n",
      "Epoch   3: Loss=0.12800 val, 0.11357 train \n",
      "Epoch   4: Loss=0.11490 val, 0.08897 train \n",
      "Epoch   5: Loss=0.10544 val, 0.06878 train \n",
      "Epoch   6: Loss=0.09627 val, 0.05925 train \n",
      "Epoch   7: Loss=0.05806 val, 0.04884 train \n",
      "Epoch   8: Loss=0.06744 val, 0.04092 train \n",
      "Epoch   9: Loss=0.07730 val, 0.03171 train \n",
      "Epoch  10: Loss=0.07234 val, 0.03038 train \n",
      "Epoch  11: Loss=0.05476 val, 0.03284 train \n",
      "Epoch  12: Loss=0.06266 val, 0.02926 train \n",
      "Epoch  13: Loss=0.03961 val, 0.02370 train \n",
      "Epoch  14: Loss=0.06253 val, 0.02915 train \n",
      "Epoch  15: Loss=0.05921 val, 0.02555 train \n",
      "loss: 0.025098, [  3968/ 10145]"
     ]
    }
   ],
   "source": [
    "encoding.train(model, triplets, loss, optimizer)"
   ]
  },
  {
   "cell_type": "code",
   "execution_count": null,
   "id": "f54d0c24-7628-48ca-b40d-1f82a4a3763f",
   "metadata": {},
   "outputs": [],
   "source": []
  }
 ],
 "metadata": {
  "kernelspec": {
   "display_name": "Python 3 (ipykernel)",
   "language": "python",
   "name": "python3"
  },
  "language_info": {
   "codemirror_mode": {
    "name": "ipython",
    "version": 3
   },
   "file_extension": ".py",
   "mimetype": "text/x-python",
   "name": "python",
   "nbconvert_exporter": "python",
   "pygments_lexer": "ipython3",
   "version": "3.10.12"
  }
 },
 "nbformat": 4,
 "nbformat_minor": 5
}
