{
 "cells": [
  {
   "cell_type": "markdown",
   "id": "b6ea0bb1-0293-4d48-9e90-4067c98a2428",
   "metadata": {},
   "source": [
    "# ARC Pretraining"
   ]
  },
  {
   "cell_type": "markdown",
   "id": "51afd628-1b97-4e63-bad8-951a817a57a0",
   "metadata": {},
   "source": [
    "## Hypothesis\n",
    "An important part of solving this problem is being able to recognize patterns in the grids. We can intuitively do this because our visual systems are trained to find such patterns. By doing some pretraining just looking at the patterns we can improve later efforts to solve the problems."
   ]
  },
  {
   "cell_type": "code",
   "execution_count": 1,
   "id": "641bf681-0ffb-4eba-b31e-df64f6f23118",
   "metadata": {},
   "outputs": [],
   "source": [
    "import data\n",
    "import encoding\n",
    "from torch import optim, nn"
   ]
  },
  {
   "cell_type": "markdown",
   "id": "463225b8-ce73-4a09-879e-8ca1ecd0fdc2",
   "metadata": {},
   "source": [
    "We can use a triplet loss to develop some embeddings that will help recognized patterns in the grids. The model will be given three grids, an anchor, another grid from the same input or output set, and a shuffled version of that grid. The triplet loss will try to identify which is the peer grid and which is the shuffled grid."
   ]
  },
  {
   "cell_type": "code",
   "execution_count": 2,
   "id": "94227400-3535-4f2a-b0b9-aa7c7e7e2cbc",
   "metadata": {},
   "outputs": [],
   "source": [
    "triplets = data.ArcTriplets('data', 'arc-agi_training', 5)"
   ]
  },
  {
   "cell_type": "code",
   "execution_count": 3,
   "id": "c926a35f-9442-490c-a06e-d41be67ee2ea",
   "metadata": {},
   "outputs": [
    {
     "data": {
      "text/plain": [
       "11272"
      ]
     },
     "execution_count": 3,
     "metadata": {},
     "output_type": "execute_result"
    }
   ],
   "source": [
    "len(triplets)"
   ]
  },
  {
   "cell_type": "code",
   "execution_count": 4,
   "id": "66621186-c4b2-447a-9c9e-dad03cae56e3",
   "metadata": {},
   "outputs": [
    {
     "data": {
      "text/plain": [
       "1000"
      ]
     },
     "execution_count": 4,
     "metadata": {},
     "output_type": "execute_result"
    }
   ],
   "source": [
    "len(triplets.challenges)"
   ]
  },
  {
   "cell_type": "markdown",
   "id": "17562bb4-788d-4e8a-8f1e-20dd46f8f355",
   "metadata": {},
   "source": [
    "By converting into triplets we increase the amount of data by an order of magnitude to help learn how to recognize patterns in them, even when filtering out small grids"
   ]
  },
  {
   "cell_type": "markdown",
   "id": "62cc5054-aad2-4efc-8895-4f4f51601db2",
   "metadata": {},
   "source": [
    "We will train a convultional model looking at the grids"
   ]
  },
  {
   "cell_type": "code",
   "execution_count": 5,
   "id": "061cd37e-fe00-4af2-a691-b6a01011945b",
   "metadata": {},
   "outputs": [],
   "source": [
    "model = encoding.EncodingModel([128, 512], [3, 9], 1024, 0.05).to(encoding.DEVICE)"
   ]
  },
  {
   "cell_type": "code",
   "execution_count": 6,
   "id": "818edeac-9eaa-47a8-9d1d-77c7241906ef",
   "metadata": {},
   "outputs": [],
   "source": [
    "optimizer = optim.Adam(model.parameters())"
   ]
  },
  {
   "cell_type": "code",
   "execution_count": 7,
   "id": "5435947f-a19a-48b7-a8f9-3e299968b744",
   "metadata": {},
   "outputs": [],
   "source": [
    "loss = nn.TripletMarginLoss()"
   ]
  },
  {
   "cell_type": "code",
   "execution_count": 8,
   "id": "3d2e7c2e-f265-4b0c-a4a2-20b0a746489a",
   "metadata": {},
   "outputs": [
    {
     "name": "stdout",
     "output_type": "stream",
     "text": [
      "Epoch   0: Loss=0.20498 val, 0.14938 train \n",
      "Epoch   1: Loss=0.11186 val, 0.06052 train \n",
      "Epoch   2: Loss=0.08031 val, 0.04156 train \n",
      "Epoch   3: Loss=0.06619 val, 0.02774 train \n",
      "Epoch   4: Loss=0.06355 val, 0.02162 train \n",
      "Epoch   5: Loss=0.05493 val, 0.01936 train \n",
      "Epoch   6: Loss=0.04835 val, 0.01640 train \n",
      "Epoch   7: Loss=0.03622 val, 0.01362 train \n",
      "Epoch   8: Loss=0.04325 val, 0.01350 train \n",
      "Epoch   9: Loss=0.04402 val, 0.01166 train \n",
      "Epoch  10: Loss=0.04219 val, 0.01401 train \n",
      "Epoch  11: Loss=0.03654 val, 0.01209 train \n",
      "Epoch  12: Loss=0.03571 val, 0.01209 train \n",
      "Epoch  13: Loss=0.03977 val, 0.01342 train \n",
      "Epoch  14: Loss=0.04750 val, 0.01160 train \n",
      "Epoch  15: Loss=0.03291 val, 0.01121 train \n",
      "Epoch  16: Loss=0.03866 val, 0.00972 train \n",
      "Epoch  17: Loss=0.04184 val, 0.01017 train \n",
      "Epoch  18: Loss=0.04248 val, 0.00985 train \n",
      "Epoch  19: Loss=0.04536 val, 0.00929 train \n",
      "Epoch  20: Loss=0.03872 val, 0.00998 train \n",
      "Final Loss: 0.03281\n"
     ]
    },
    {
     "data": {
      "text/plain": [
       "EncodingModel(\n",
       "  (layers): ModuleList(\n",
       "    (0): Conv2d(10, 128, kernel_size=(3, 3), stride=(1, 1), padding=same)\n",
       "    (1): Conv2d(128, 512, kernel_size=(9, 9), stride=(1, 1), padding=same)\n",
       "  )\n",
       "  (pool): MaxPool2d(kernel_size=30, stride=30, padding=0, dilation=1, ceil_mode=False)\n",
       "  (fc): Linear(in_features=512, out_features=1024, bias=True)\n",
       "  (dropout): Dropout(p=0.05, inplace=False)\n",
       ")"
      ]
     },
     "execution_count": 8,
     "metadata": {},
     "output_type": "execute_result"
    }
   ],
   "source": [
    "encoding.train(model, triplets, loss, optimizer, seed=20250509)"
   ]
  },
  {
   "cell_type": "code",
   "execution_count": null,
   "id": "f54d0c24-7628-48ca-b40d-1f82a4a3763f",
   "metadata": {},
   "outputs": [],
   "source": []
  }
 ],
 "metadata": {
  "kernelspec": {
   "display_name": "Python 3 (ipykernel)",
   "language": "python",
   "name": "python3"
  },
  "language_info": {
   "codemirror_mode": {
    "name": "ipython",
    "version": 3
   },
   "file_extension": ".py",
   "mimetype": "text/x-python",
   "name": "python",
   "nbconvert_exporter": "python",
   "pygments_lexer": "ipython3",
   "version": "3.10.12"
  }
 },
 "nbformat": 4,
 "nbformat_minor": 5
}
